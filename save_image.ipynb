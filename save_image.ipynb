{
 "cells": [
  {
   "cell_type": "code",
   "execution_count": 1,
   "id": "2f2f7e58",
   "metadata": {},
   "outputs": [],
   "source": [
    "from pypylon import pylon\n",
    "import platform\n",
    "\n",
    "num_img_to_save = 5\n",
    "img = pylon.PylonImage()\n",
    "tlf = pylon.TlFactory.GetInstance()\n",
    "\n",
    "cam = pylon.InstantCamera(tlf.CreateFirstDevice())\n",
    "cam.Open()\n",
    "cam.StartGrabbing()\n",
    "for i in range(num_img_to_save):\n",
    "    with cam.RetrieveResult(2000) as result:\n",
    "        \n",
    "        # Calling AttachGrabResultBuffer creaters another reference to the\n",
    "        # grab result buffer. This prevents the buffer's reuse for grabbing.\n",
    "        img.AttachGrabResultBuffer(result)\n",
    "        \n",
    "        if platform.system() == \"Windows\":\n",
    "            # The JPEG format that is used here supports adjusting the image\n",
    "            # quality (100 -> best quality, 0 -> poor quality)\n",
    "            ipo = pylon.ImagePersistenceOptions()\n",
    "            quality = 90 - i * 10\n",
    "            ipo.SetQuality(quality)\n",
    "            \n",
    "            filename = \"images/save_pypylon_img_%d.jpeg\" % quality\n",
    "            img.Save(pylon.ImageFileFormat_Jpeg, filename, ipo)\n",
    "        else:\n",
    "            filename = \"images/save_pypylon_img_%d.png\" % i\n",
    "            img.Save(pylon.ImageFileFormat_Png, filename)\n",
    "            \n",
    "        # In order to make it possible to reuse the grab result for grabbing again, we have to release the image (effectively emptying the image object).\n",
    "        img.Release()\n",
    "        \n",
    "\n",
    "cam.StopGrabbing()\n",
    "cam.Close()            \n",
    "        "
   ]
  },
  {
   "cell_type": "code",
   "execution_count": null,
   "id": "9869ae0b",
   "metadata": {},
   "outputs": [],
   "source": []
  }
 ],
 "metadata": {
  "kernelspec": {
   "display_name": "Python 3 (ipykernel)",
   "language": "python",
   "name": "python3"
  },
  "language_info": {
   "codemirror_mode": {
    "name": "ipython",
    "version": 3
   },
   "file_extension": ".py",
   "mimetype": "text/x-python",
   "name": "python",
   "nbconvert_exporter": "python",
   "pygments_lexer": "ipython3",
   "version": "3.7.6"
  }
 },
 "nbformat": 4,
 "nbformat_minor": 5
}
